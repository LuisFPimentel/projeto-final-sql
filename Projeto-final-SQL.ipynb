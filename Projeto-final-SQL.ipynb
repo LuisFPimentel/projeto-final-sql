{
 "cells": [
  {
   "cell_type": "markdown",
   "id": "20617a1f-e442-44e4-9c3d-208953853bd3",
   "metadata": {
    "tags": []
   },
   "source": [
    "<img src=\"https://raw.githubusercontent.com/andre-marcos-perez/ebac-course-utils/main/media/logo/newebac_logo_black_half.png\" alt=\"ebac-logo\">\n",
    "\n",
    "---\n",
    "\n",
    "# **Módulo** | SQL: Projeto Final\n",
    "Aluno **Luís Fernando Castella Fitor Pimentel**<br> \n",
    "Professor [Mariane Neiva](www.linkedin.com/in/mariane-neiva)\n",
    "\n",
    "---"
   ]
  },
  {
   "cell_type": "markdown",
   "id": "b026f80a-b236-497a-aa0e-2755c0bc7e6d",
   "metadata": {},
   "source": [
    "# **Tópicos**\n",
    "\n",
    "- [**1. Conjunto de dados**](#1.-Conjunto-de-dados)  \n",
    "\n",
    "- [**2. Criação da tabela**](#2.-Criação-da-tabela)  \n",
    "\n",
    "- [**3. EDA (Exploratory Data Analysis)**](#3.-EDA-(Exploratory-Data-Analysis))\n",
    "\n",
    "- [**4. Conclusão**](#4.-Conclusão) \n",
    "---"
   ]
  },
  {
   "cell_type": "markdown",
   "id": "a698e377-9ef5-414f-82cf-1fabb46a3163",
   "metadata": {},
   "source": [
    "# **1. Conjunto de dados**"
   ]
  },
  {
   "cell_type": "markdown",
   "id": "68c036e3-2659-4991-8706-73a0d7a3c5e1",
   "metadata": {},
   "source": [
    "Os dados que usamos neste projeto o conjunto de dados **credito8.csv** da professora [Mariane Neiva](www.linkedin.com/in/mariane-neiva). \n",
    "\n",
    "Os resultados que você vê aqui não são tão confiáveis quanto uma análise feita com todos os dados. Mas, eles são bons o suficiente para nossos propósitos de aprendizado e para mostrar o que aprendemos no curso. E claro, todas as consultas que usamos aqui podem ser aplicadas ao conjunto completo para análises mais precisas.\n",
    "\n",
    "Esses dados são sobre clientes de um banco e incluem coisas como:"
   ]
  },
  {
   "cell_type": "markdown",
   "id": "7d4038d6-5278-4bd7-b3d8-a3c789fe1307",
   "metadata": {},
   "source": [
    "| Coluna                   | Descrição                                               | Tipo     |\n",
    "| :----------------------- | :-----------------------------------------------------: | -------: |\n",
    "| **idade**                | idade do cliente                                        | *int*    | \n",
    "| **sexo**                 | sexo do cliente (F ou M)                                | *string* |\n",
    "| **dependentes**          | número de dependentes do cliente                        | *int*    |\n",
    "| **escolaridade**         | nível de escolaridade do clientes                       | *string* |\n",
    "| **estado_civil**         | estado civil do cliente                                 | *string* |\n",
    "| **salario_anual**        | faixa salarial do cliente                               | *string* |\n",
    "| **tipo_cartao**          | tipo de cartao do cliente                               | *string* |\n",
    "| **qtd_produtos**         | quantidade de produtos comprados nos últimos 12 meses   | *bigint* |\n",
    "| **iteracoes_12m**        | quantidade de iterações/transacoes nos ultimos 12 meses | *int*    |\n",
    "| **meses_inativo_12m**    | quantidade de meses que o cliente ficou inativo         | *int*    |\n",
    "| **limite_credito**       | limite de credito do cliente                            | *float*  |\n",
    "| **valor_transacoes_12m** | valor das transações dos ultimos 12 meses               | *float*  |\n",
    "| **qtd_transacoes_12m**   | quantidade de transacoes dos ultimos 12 meses           | *int*    |"
   ]
  },
  {
   "cell_type": "markdown",
   "id": "43c8ce63-cf68-4ca0-8ec6-859eb87157d5",
   "metadata": {},
   "source": [
    "A tabela e as *queries* em linguagem SQL foram criadas através do [Amazon Athena](https://aws.amazon.com/pt/athena/) junto com o [Amazon Simple Storage Service (Amazon S3)](https://aws.amazon.com/pt/s3/).\n",
    "\n",
    "[**Amazon Web Services**](https://aws.amazon.com/pt/), também conhecido como [**AWS**](https://aws.amazon.com/pt/), é uma plataforma de serviços de computação em nuvem, que formam uma plataforma de computação na nuvem oferecida pela Amazon.com."
   ]
  },
  {
   "cell_type": "markdown",
   "id": "f06850d6-c033-4c49-8ebf-e359188e7c86",
   "metadata": {},
   "source": [
    "# **2. Criação da tabela**"
   ]
  },
  {
   "cell_type": "markdown",
   "id": "fee1bfcb-2a4e-4d4c-af25-ff6cb29dedd7",
   "metadata": {},
   "source": [
    "Primeiro, devemos criar a tabela com o *dataset* armazenado no **Amazon S3 Bucket** utilizando uma *query* no **AWS Athena**, para que possoamos realizar as consultas."
   ]
  },
  {
   "cell_type": "markdown",
   "id": "7ee20805-f4ec-453a-8f54-63f31ca96938",
   "metadata": {
    "tags": []
   },
   "source": [
    "```sql\n",
    "CREATE EXTERNAL TABLE IF NOT EXISTS default.credito ( \n",
    "  `idade` int,\n",
    "  `sexo` string,\n",
    "  `dependentes` int,\n",
    "  `escolaridade` string,\n",
    "  `estado_civil` string,\n",
    "  `salario_anual` string,\n",
    "  `tipo_cartao` string, \n",
    "  `qtd_produtos` bigint,\n",
    "  `iteracoes_12m` int,\n",
    "  `meses_inativo_12m` int,\n",
    "  `limite_credito` float,\n",
    "  `valor_transacoes_12m` float,\n",
    "  `qtd_transacoes_12m` int \n",
    ")\n",
    "ROW FORMAT SERDE 'org.apache.hadoop.hive.serde2.lazy.LazySimpleSerDe'\n",
    "WITH SERDEPROPERTIES (\n",
    "  'serialization.format' = ',',\n",
    "  'field.delim' = ','\n",
    ") LOCATION 's3://ebac-projetofinal-credito/'\n",
    "TBLPROPERTIES ('has_encrypted_data'='false');\n",
    "```"
   ]
  },
  {
   "cell_type": "markdown",
   "id": "0ffa80a4-20e1-409c-beeb-5edd1f2d0844",
   "metadata": {},
   "source": [
    "# **3. EDA (Exploratory Data Analysis)**"
   ]
  },
  {
   "cell_type": "markdown",
   "id": "97e9d239-359d-4946-94ff-cfa17913d6c4",
   "metadata": {
    "tags": []
   },
   "source": [
    "## 3.1 Preview da tabela"
   ]
  },
  {
   "cell_type": "markdown",
   "id": "d926eba7-0252-4ed8-9c49-98bdceaf1e79",
   "metadata": {},
   "source": [
    "> **Query 1:**\n",
    "\n",
    "```sql\n",
    "SELECT * FROM \"default\".\"credito\" limit 10;\n",
    "```"
   ]
  },
  {
   "cell_type": "markdown",
   "id": "ffb75fde-f58d-4930-bd93-59cda84e4e53",
   "metadata": {},
   "source": [
    "![](https://github.com/LuisFPimentel/projeto-final-sql/blob/main/Query1.png?raw=true)"
   ]
  },
  {
   "cell_type": "markdown",
   "id": "fd2304b5-a263-4d71-987f-43cbd1d91d8c",
   "metadata": {},
   "source": [
    "## 3.2 Quantidade de linhas do Dataset"
   ]
  },
  {
   "cell_type": "markdown",
   "id": "f740bd7d-e36b-4234-bae1-4c3e578e5dcd",
   "metadata": {},
   "source": [
    "> **Query 2:**\n",
    "\n",
    "```sql\n",
    "SELECT COUNT(*) AS quantidade_linhas FROM credito;\n",
    "```"
   ]
  },
  {
   "cell_type": "markdown",
   "id": "9e2d943e-990d-4297-aec7-2d0262632bd0",
   "metadata": {
    "tags": []
   },
   "source": [
    "![](https://github.com/LuisFPimentel/projeto-final-sql/blob/main/Query2.png?raw=true)"
   ]
  },
  {
   "cell_type": "markdown",
   "id": "cd6b2738-9bc8-45b7-8152-c760c11ab1b9",
   "metadata": {
    "tags": []
   },
   "source": [
    "## 3.3 Tipos de dados em cada coluna"
   ]
  },
  {
   "cell_type": "markdown",
   "id": "c68e012d-4e09-493c-a665-37e4a9f02b7e",
   "metadata": {},
   "source": [
    "> **Query 3:**\n",
    "\n",
    "```sql\n",
    "DESCRIBE credito\n",
    "```"
   ]
  },
  {
   "cell_type": "markdown",
   "id": "fb63f9f7-3081-41d6-9296-91d0381100d6",
   "metadata": {
    "tags": []
   },
   "source": [
    "![](https://github.com/LuisFPimentel/projeto-final-sql/blob/main/Query3.png?raw=true)"
   ]
  },
  {
   "cell_type": "markdown",
   "id": "13973c58-7542-49cd-bd15-32c52a619e0c",
   "metadata": {
    "tags": []
   },
   "source": [
    "## 3.4 Categorias da variável `escolaridade`"
   ]
  },
  {
   "cell_type": "markdown",
   "id": "05f81c5b-924c-4f72-ae41-0210a1c6dca7",
   "metadata": {
    "tags": []
   },
   "source": [
    "> **Query 4.1:**\n",
    "\n",
    "```sql\n",
    "SELECT DISTINCT escolaridade FROM credito;\n",
    "```"
   ]
  },
  {
   "cell_type": "markdown",
   "id": "172711eb-14d4-4c35-8323-13926702ce6b",
   "metadata": {},
   "source": [
    "![](https://github.com/LuisFPimentel/projeto-final-sql/blob/main/Query4.png?raw=true)"
   ]
  },
  {
   "cell_type": "markdown",
   "id": "b8329c95-badb-4429-92b4-0a66291eba6c",
   "metadata": {},
   "source": [
    "Nessa consulta, podemos ver que existem valores **nulos** ou **não preenchido** que são representados pelo **na**."
   ]
  },
  {
   "cell_type": "markdown",
   "id": "6b706393-a350-4618-8ad4-0f92353ac6a8",
   "metadata": {
    "tags": []
   },
   "source": [
    "> **Query 4.2:**\n",
    "\n",
    "```sql\n",
    "SELECT escolaridade,\n",
    "    COUNT(*) AS quantidade\n",
    "    FROM credito\n",
    "    GROUP BY escolaridade\n",
    "    ORDER BY quantidade DESC;\n",
    "```"
   ]
  },
  {
   "cell_type": "markdown",
   "id": "0530923f-5ea5-45f3-a1f7-557d8b1e0317",
   "metadata": {},
   "source": [
    "![](https://github.com/LuisFPimentel/projeto-final-sql/blob/main/Query4-2.png?raw=true)"
   ]
  },
  {
   "cell_type": "markdown",
   "id": "bf7733db-d708-4b31-beec-b540d5aa49fa",
   "metadata": {},
   "source": [
    "Os valores de **na** representam por volta de 13% do total."
   ]
  },
  {
   "cell_type": "markdown",
   "id": "23705e76-5ac6-4741-b4a6-28535af38b98",
   "metadata": {
    "tags": []
   },
   "source": [
    "## 3.5 Categorias da variável `estado-civil`"
   ]
  },
  {
   "cell_type": "markdown",
   "id": "92f77662-3867-4dea-bbe1-854fe9498ac7",
   "metadata": {},
   "source": [
    "> **Query 5.1:**\n",
    "\n",
    "```sql\n",
    "SELECT DISTINCT estado_civil FROM credito;\n",
    "```"
   ]
  },
  {
   "cell_type": "markdown",
   "id": "ee3072db-a791-4352-8f63-752af79762a3",
   "metadata": {},
   "source": [
    "![](https://github.com/LuisFPimentel/projeto-final-sql/blob/main/Query5.png?raw=true)"
   ]
  },
  {
   "cell_type": "markdown",
   "id": "6558e46f-6fcd-4f7f-9159-f21607d526a6",
   "metadata": {
    "tags": []
   },
   "source": [
    "Nessa consulta, podemos ver que também existem valores **nulos** ou **não preenchido**."
   ]
  },
  {
   "cell_type": "markdown",
   "id": "c455ac3f-8b90-4c09-8236-ba8265d1084e",
   "metadata": {},
   "source": [
    "> **Query 5.2:**\n",
    "\n",
    "```sql\n",
    "SELECT estado_civil,\n",
    "    COUNT(*) AS quantidade\n",
    "    FROM credito\n",
    "    GROUP BY estado_civil\n",
    "    ORDER BY quantidade DESC;\n",
    "```"
   ]
  },
  {
   "cell_type": "markdown",
   "id": "c911439c-911d-4587-bef8-7c6ddddf46ef",
   "metadata": {
    "tags": []
   },
   "source": [
    "![](https://github.com/LuisFPimentel/projeto-final-sql/blob/main/Query5-2.png?raw=true)"
   ]
  },
  {
   "cell_type": "markdown",
   "id": "78425226-9c62-4e87-be35-c733f7030cec",
   "metadata": {
    "tags": []
   },
   "source": [
    "Os valores de **na** representam por volta de 4% do total."
   ]
  },
  {
   "cell_type": "markdown",
   "id": "424b967a-f018-48d7-b915-7ff2e8115710",
   "metadata": {},
   "source": [
    "## 3.6 Categorias da variável `salario_anual`"
   ]
  },
  {
   "cell_type": "markdown",
   "id": "c6f5341b-2b96-4490-aa8f-453f90873d28",
   "metadata": {},
   "source": [
    "> **Query 6.1:**\n",
    "\n",
    "```sql\n",
    "SELECT DISTINCT salario_anual FROM credito;\n",
    "```"
   ]
  },
  {
   "cell_type": "markdown",
   "id": "398b6ed4-c730-490a-9e64-39205553b4f4",
   "metadata": {},
   "source": [
    "![](https://github.com/LuisFPimentel/projeto-final-sql/blob/main/Query8.png?raw=true)"
   ]
  },
  {
   "cell_type": "markdown",
   "id": "a0d2f834-8fed-4588-936f-33d1f05045d9",
   "metadata": {
    "tags": []
   },
   "source": [
    "Nessa consulta, podemos ver que também existem valores **nulos** ou **não preenchido**."
   ]
  },
  {
   "cell_type": "markdown",
   "id": "e817b966-5a38-4c75-8a09-6de9a585b46c",
   "metadata": {},
   "source": [
    "> **Query 6.2:**\n",
    "\n",
    "```sql\n",
    "SELECT salario_anual,\n",
    "    COUNT(*) AS quantidade\n",
    "    FROM credito\n",
    "    GROUP BY salario_anual\n",
    "    ORDER BY quantidade DESC;\n",
    "```"
   ]
  },
  {
   "cell_type": "markdown",
   "id": "5f5bfd57-dfcc-4254-b369-d656305e593a",
   "metadata": {},
   "source": [
    "![](https://github.com/LuisFPimentel/projeto-final-sql/blob/main/Query8-2.png?raw=true)"
   ]
  },
  {
   "cell_type": "markdown",
   "id": "285e045b-2978-42e2-a3db-de4ec3d7d0e7",
   "metadata": {},
   "source": [
    "Os valores de **na** representam por volta de 9% do total."
   ]
  },
  {
   "cell_type": "markdown",
   "id": "e854bf96-7c62-4844-808c-f89babfd832c",
   "metadata": {},
   "source": [
    "## 3.7 Quantidade de clientes para cada tipo de cartão"
   ]
  },
  {
   "cell_type": "markdown",
   "id": "3efbbb48-27a2-4f13-8176-f58b06c0491a",
   "metadata": {},
   "source": [
    "> **Query 7:**\n",
    "\n",
    "```sql\n",
    "SELECT tipo_cartao,\n",
    "    COUNT(*) AS quantidade\n",
    "    FROM credito\n",
    "    GROUP BY tipo_cartao\n",
    "    ORDER BY quantidade DESC;\n",
    "```"
   ]
  },
  {
   "cell_type": "markdown",
   "id": "5e99ff05-8bc0-4f31-b665-06fa8a457c17",
   "metadata": {},
   "source": [
    "![](https://github.com/LuisFPimentel/projeto-final-sql/blob/main/Query6.png?raw=true)"
   ]
  },
  {
   "cell_type": "markdown",
   "id": "33606352-55b4-4032-8201-8dc621a18d22",
   "metadata": {},
   "source": [
    "## 3.8 Quantidade de clientes de acordo com o sexo"
   ]
  },
  {
   "cell_type": "markdown",
   "id": "02f6ac92-6f84-47e3-b74f-f2ef3c9ffe7f",
   "metadata": {},
   "source": [
    "> **Query 8:**\n",
    "\n",
    "```sql\n",
    "SELECT sexo,\n",
    "    COUNT(*) AS quantidade\n",
    "    FROM credito\n",
    "    GROUP BY sexo\n",
    "    ORDER BY quantidade DESC;\n",
    "```"
   ]
  },
  {
   "cell_type": "markdown",
   "id": "6af4d539-c269-4809-ba83-585692e95ebe",
   "metadata": {
    "tags": []
   },
   "source": [
    "![](https://github.com/LuisFPimentel/projeto-final-sql/blob/main/Query7.png?raw=true)"
   ]
  },
  {
   "cell_type": "markdown",
   "id": "dfcce366-83fd-4251-bb29-67ed8037a8b6",
   "metadata": {
    "tags": []
   },
   "source": [
    "Para ilustrar melhor, a baixo temos um gráfico da distrubuição de homens e mulheres no dataset:"
   ]
  },
  {
   "cell_type": "markdown",
   "id": "3cd279ae-dae5-4003-b197-cda63d317bb7",
   "metadata": {
    "tags": []
   },
   "source": [
    "![](https://github.com/LuisFPimentel/projeto-final-sql/blob/main/grafico1.png?raw=true)"
   ]
  },
  {
   "cell_type": "markdown",
   "id": "45f31850-7680-450f-aa5e-1f6e88f43339",
   "metadata": {},
   "source": [
    "## 3.9 Análise dos gastos dos clientes (média, mínima e máxima)"
   ]
  },
  {
   "cell_type": "markdown",
   "id": "90e3842f-417f-48f9-9761-05228ee7b9fe",
   "metadata": {
    "tags": []
   },
   "source": [
    "> **Query 9:**\n",
    "\n",
    "```sql\n",
    "SELECT ROUND(AVG(valor_transacoes_12m), 2) AS valor_medio_transacoes,\n",
    "    MIN(valor_transacoes_12m) AS valor_minimo_transacoes,\n",
    "    MAX(valor_transacoes_12m) AS valor_maximo_transacoes\n",
    "FROM credito;\n",
    "```"
   ]
  },
  {
   "cell_type": "markdown",
   "id": "f7fe348d-3196-4828-aaf8-b498666b4f5e",
   "metadata": {},
   "source": [
    "![](https://github.com/LuisFPimentel/projeto-final-sql/blob/main/Query9.png?raw=true)"
   ]
  },
  {
   "cell_type": "markdown",
   "id": "9eb1dc1e-68e6-421f-81fb-d1192b4f4085",
   "metadata": {},
   "source": [
    "## 3.10 Limite de salário anual por sexo"
   ]
  },
  {
   "cell_type": "markdown",
   "id": "e2e9e97e-3b23-40da-bd74-ebf44f809ea8",
   "metadata": {},
   "source": [
    "> **Query 10:**\n",
    "\n",
    "```sql\n",
    "SELECT COUNT(*) \n",
    "    as qtde, salario_anual, sexo \n",
    "    FROM credito \n",
    "    WHERE salario_anual != 'na' \n",
    "    GROUP BY salario_anual, sexo\n",
    "    ORDER BY salario_anual ASC;\n",
    "```"
   ]
  },
  {
   "cell_type": "markdown",
   "id": "2f605d15-d7d6-466b-813b-44730dffd956",
   "metadata": {},
   "source": [
    "![](https://github.com/LuisFPimentel/projeto-final-sql/blob/main/Query10.png?raw=true)"
   ]
  },
  {
   "cell_type": "markdown",
   "id": "0a8c9d1f-3329-408a-9d97-77cd96a003a7",
   "metadata": {},
   "source": [
    "## 3.11 Relação entre tipo de cartão e limite de crédito"
   ]
  },
  {
   "cell_type": "markdown",
   "id": "82f9c321-d723-403b-b7cb-2f32566eadeb",
   "metadata": {},
   "source": [
    "> **Query 11:**\n",
    "\n",
    "```sql\n",
    "SELECT COUNT(*) \n",
    "    as qtde, AVG(limite_credito) \n",
    "    AS limite_medio, tipo_cartao \n",
    "    FROM credito \n",
    "    GROUP BY tipo_cartao\n",
    "```"
   ]
  },
  {
   "cell_type": "markdown",
   "id": "f6843b26-9442-4394-bf14-cef7a3e0b9ea",
   "metadata": {
    "tags": []
   },
   "source": [
    "![](https://github.com/LuisFPimentel/projeto-final-sql/blob/main/Query11.png?raw=true)"
   ]
  },
  {
   "cell_type": "markdown",
   "id": "3a7e9155-d73c-423d-b31f-413a9b721d05",
   "metadata": {},
   "source": [
    "# **4. Conclusão**"
   ]
  },
  {
   "cell_type": "markdown",
   "id": "36403d5d-4074-4015-a00d-b2005baf4daa",
   "metadata": {},
   "source": [
    "A partir das visualizações e análises extraídas do conjunto de dados, pode-se gerar alguns insights:\n",
    "\n",
    "* Existem valores nulos ou vazios que foram representados por **na**\n",
    "\n",
    "* A maioria dos clientes possui um salário anual abaixo de $40.000,00\n",
    "\n",
    "* Os homens recebem mais do que as mulheres.\n",
    "\n",
    "* As médias de limite de crédito mais baixas foram encontradas entre os clientes com o tipo de cartão *blue*"
   ]
  }
 ],
 "metadata": {
  "kernelspec": {
   "display_name": "Python 3 (ipykernel)",
   "language": "python",
   "name": "python3"
  },
  "language_info": {
   "codemirror_mode": {
    "name": "ipython",
    "version": 3
   },
   "file_extension": ".py",
   "mimetype": "text/x-python",
   "name": "python",
   "nbconvert_exporter": "python",
   "pygments_lexer": "ipython3",
   "version": "3.10.9"
  }
 },
 "nbformat": 4,
 "nbformat_minor": 5
}
